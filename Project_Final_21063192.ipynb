{
  "nbformat": 4,
  "nbformat_minor": 0,
  "metadata": {
    "colab": {
      "provenance": [],
      "gpuType": "T4",
      "authorship_tag": "ABX9TyM6eKaFcYWMutGPynt9G6ro",
      "include_colab_link": true
    },
    "kernelspec": {
      "name": "python3",
      "display_name": "Python 3"
    },
    "language_info": {
      "name": "python"
    },
    "accelerator": "GPU"
  },
  "cells": [
    {
      "cell_type": "markdown",
      "metadata": {
        "id": "view-in-github",
        "colab_type": "text"
      },
      "source": [
        "<a href=\"https://colab.research.google.com/github/Sasidhar0709/Project-Stock-market-Analysis/blob/main/Project_Final_21063192.ipynb\" target=\"_parent\"><img src=\"https://colab.research.google.com/assets/colab-badge.svg\" alt=\"Open In Colab\"/></a>"
      ]
    },
    {
      "cell_type": "code",
      "source": [
        "!pip install yfinance"
      ],
      "metadata": {
        "colab": {
          "base_uri": "https://localhost:8080/"
        },
        "id": "Y1gOlwxR1E2m",
        "outputId": "203824d4-3868-473d-8bdf-a3748d3d3968"
      },
      "execution_count": null,
      "outputs": [
        {
          "output_type": "stream",
          "name": "stdout",
          "text": [
            "Requirement already satisfied: yfinance in /usr/local/lib/python3.10/dist-packages (0.2.40)\n",
            "Requirement already satisfied: pandas>=1.3.0 in /usr/local/lib/python3.10/dist-packages (from yfinance) (2.0.3)\n",
            "Requirement already satisfied: numpy>=1.16.5 in /usr/local/lib/python3.10/dist-packages (from yfinance) (1.25.2)\n",
            "Requirement already satisfied: requests>=2.31 in /usr/local/lib/python3.10/dist-packages (from yfinance) (2.31.0)\n",
            "Requirement already satisfied: multitasking>=0.0.7 in /usr/local/lib/python3.10/dist-packages (from yfinance) (0.0.11)\n",
            "Requirement already satisfied: lxml>=4.9.1 in /usr/local/lib/python3.10/dist-packages (from yfinance) (4.9.4)\n",
            "Requirement already satisfied: platformdirs>=2.0.0 in /usr/local/lib/python3.10/dist-packages (from yfinance) (4.2.2)\n",
            "Requirement already satisfied: pytz>=2022.5 in /usr/local/lib/python3.10/dist-packages (from yfinance) (2023.4)\n",
            "Requirement already satisfied: frozendict>=2.3.4 in /usr/local/lib/python3.10/dist-packages (from yfinance) (2.4.4)\n",
            "Requirement already satisfied: peewee>=3.16.2 in /usr/local/lib/python3.10/dist-packages (from yfinance) (3.17.5)\n",
            "Requirement already satisfied: beautifulsoup4>=4.11.1 in /usr/local/lib/python3.10/dist-packages (from yfinance) (4.12.3)\n",
            "Requirement already satisfied: html5lib>=1.1 in /usr/local/lib/python3.10/dist-packages (from yfinance) (1.1)\n",
            "Requirement already satisfied: soupsieve>1.2 in /usr/local/lib/python3.10/dist-packages (from beautifulsoup4>=4.11.1->yfinance) (2.5)\n",
            "Requirement already satisfied: six>=1.9 in /usr/local/lib/python3.10/dist-packages (from html5lib>=1.1->yfinance) (1.16.0)\n",
            "Requirement already satisfied: webencodings in /usr/local/lib/python3.10/dist-packages (from html5lib>=1.1->yfinance) (0.5.1)\n",
            "Requirement already satisfied: python-dateutil>=2.8.2 in /usr/local/lib/python3.10/dist-packages (from pandas>=1.3.0->yfinance) (2.8.2)\n",
            "Requirement already satisfied: tzdata>=2022.1 in /usr/local/lib/python3.10/dist-packages (from pandas>=1.3.0->yfinance) (2024.1)\n",
            "Requirement already satisfied: charset-normalizer<4,>=2 in /usr/local/lib/python3.10/dist-packages (from requests>=2.31->yfinance) (3.3.2)\n",
            "Requirement already satisfied: idna<4,>=2.5 in /usr/local/lib/python3.10/dist-packages (from requests>=2.31->yfinance) (3.7)\n",
            "Requirement already satisfied: urllib3<3,>=1.21.1 in /usr/local/lib/python3.10/dist-packages (from requests>=2.31->yfinance) (2.0.7)\n",
            "Requirement already satisfied: certifi>=2017.4.17 in /usr/local/lib/python3.10/dist-packages (from requests>=2.31->yfinance) (2024.6.2)\n"
          ]
        }
      ]
    },
    {
      "cell_type": "code",
      "execution_count": null,
      "metadata": {
        "id": "Lt1jSP86oZMT"
      },
      "outputs": [],
      "source": [
        "import numpy as np\n",
        "import pandas as pd\n",
        "import matplotlib.pyplot as plt\n",
        "import seaborn as sns\n",
        "from datetime import datetime\n",
        "import yfinance as yf\n",
        "from scipy.interpolate import interp1d\n",
        "from scipy.stats import linregress\n",
        "import warnings\n",
        "warnings.filterwarnings('ignore')"
      ]
    },
    {
      "cell_type": "code",
      "source": [
        "ftse100_tickers = [\n",
        "    'AAF.L', 'AAL.L', 'ABF.L', 'ADM.L', 'AHT.L', 'ANTO.L', 'AUTO.L', 'AV.L',\n",
        "    'AZN.L', 'BA.L', 'BARC.L', 'BATS.L', 'BDEV.L', 'BEZ.L', 'BKG.L', 'BME.L',\n",
        "    'BNZL.L', 'BP.L', 'BRBY.L', 'BT-A.L', 'CCH.L', 'CNA.L', 'CPG.L', 'CRDA.L',\n",
        "    'CTEC.L', 'DARK.L', 'DCC.L', 'DGE.L','DPLM.L', 'ENT.L', 'EXPN.L','EZJ.L',\n",
        "    'FCIT.L', 'FRAS.L', 'FRES.L', 'GLEN.L', 'GSK.L', 'HIK.L','HL.L', 'HLMA.L',\n",
        "    'HLN.L', 'HSBA.L','HWDN.L','IAG.L','ICG.L','IHG.L', 'III.L','IMB.L',\n",
        "    'IMI.L','INF.L','ITRK.L', 'JD.L', 'KGF.L', 'LAND.L', 'LGEN.L', 'LLOY.L',\n",
        "    'LMP.L', 'LSEG.L','MKS.L', 'MNG.L', 'MNDI.L', 'MRO.L', 'NG.L', 'NWG.L',\n",
        "    'NXT.L', 'PHNX.L', 'PRU.L', 'PSH.L', 'PSN.L','PSON.L', 'REL.L', 'RIO.L',\n",
        "    'RKT.L', 'RMV.L','RR.L','RTO.L', 'SBRY.L', 'SDR.L', 'SGE.L', 'SGRO.L',\n",
        "    'SHEL.L','SKG.L', 'SMDS.L', 'SMIN.L', 'SMT.L', 'SN.L', 'SPX.L', 'SSE.L',\n",
        "    'STAN.L', 'SVT.L', 'TSCO.L', 'TW.L', 'ULVR.L','UTG.L', 'UU.L','VOD.L',\n",
        "    'VTY.L','WEIR.L', 'WPP.L', 'WTB.L'  ]\n",
        "\n",
        "\n",
        "# Define the start and end date\n",
        "start_date = '2013-01-01'\n",
        "end_date = '2023-12-31'\n",
        "\n",
        "# Initialize an empty DataFrame to hold all data\n",
        "all_data = pd.DataFrame()\n",
        "\n",
        "# Fetch the data for each ticker\n",
        "for ticker in ftse100_tickers:\n",
        "    print(f\"Fetching data for {ticker}\")\n",
        "    try:\n",
        "        stock_data = yf.download(ticker, start=start_date, end=end_date)\n",
        "        stock_data['Ticker'] = ticker  # Add a column for the ticker symbol\n",
        "        all_data = pd.concat([all_data, stock_data])\n",
        "    except Exception as e:\n",
        "        print(f\"Could not fetch data for {ticker}. Error: {e}\")\n",
        "\n",
        "# Reset index to have a column with the date\n",
        "all_data.reset_index(inplace=True)\n",
        "\n",
        "# Save the data to a CSV file\n",
        "all_data.to_csv('ftse100_historical_data.csv', index=False)\n",
        "print(\"Data has been saved to ftse100_historical_data.csv\")\n"
      ],
      "metadata": {
        "colab": {
          "base_uri": "https://localhost:8080/"
        },
        "id": "zAg11yp3ryin",
        "outputId": "2b37e746-fedb-40d1-862b-645ea7f05679"
      },
      "execution_count": null,
      "outputs": [
        {
          "output_type": "stream",
          "name": "stderr",
          "text": [
            "\r[*********************100%%**********************]  1 of 1 completed"
          ]
        },
        {
          "output_type": "stream",
          "name": "stdout",
          "text": [
            "Fetching data for AAF.L\n",
            "Fetching data for AAL.L\n"
          ]
        },
        {
          "output_type": "stream",
          "name": "stderr",
          "text": [
            "\n",
            "[*********************100%%**********************]  1 of 1 completed\n"
          ]
        },
        {
          "output_type": "stream",
          "name": "stdout",
          "text": [
            "Fetching data for ABF.L\n"
          ]
        },
        {
          "output_type": "stream",
          "name": "stderr",
          "text": [
            "\r[*********************100%%**********************]  1 of 1 completed\n"
          ]
        },
        {
          "output_type": "stream",
          "name": "stdout",
          "text": [
            "Fetching data for ADM.L\n"
          ]
        },
        {
          "output_type": "stream",
          "name": "stderr",
          "text": [
            "[*********************100%%**********************]  1 of 1 completed\n",
            "[*********************100%%**********************]  1 of 1 completed\n"
          ]
        },
        {
          "output_type": "stream",
          "name": "stdout",
          "text": [
            "Fetching data for AHT.L\n",
            "Fetching data for ANTO.L\n"
          ]
        },
        {
          "output_type": "stream",
          "name": "stderr",
          "text": [
            "[*********************100%%**********************]  1 of 1 completed\n",
            "[*********************100%%**********************]  1 of 1 completed\n"
          ]
        },
        {
          "output_type": "stream",
          "name": "stdout",
          "text": [
            "Fetching data for AUTO.L\n",
            "Fetching data for AV.L\n"
          ]
        },
        {
          "output_type": "stream",
          "name": "stderr",
          "text": [
            "[*********************100%%**********************]  1 of 1 completed\n",
            "[*********************100%%**********************]  1 of 1 completed\n"
          ]
        },
        {
          "output_type": "stream",
          "name": "stdout",
          "text": [
            "Fetching data for AZN.L\n",
            "Fetching data for BA.L\n"
          ]
        },
        {
          "output_type": "stream",
          "name": "stderr",
          "text": [
            "[*********************100%%**********************]  1 of 1 completed\n",
            "[*********************100%%**********************]  1 of 1 completed\n"
          ]
        },
        {
          "output_type": "stream",
          "name": "stdout",
          "text": [
            "Fetching data for BARC.L\n",
            "Fetching data for BATS.L\n"
          ]
        },
        {
          "output_type": "stream",
          "name": "stderr",
          "text": [
            "[*********************100%%**********************]  1 of 1 completed\n",
            "[*********************100%%**********************]  1 of 1 completed\n"
          ]
        },
        {
          "output_type": "stream",
          "name": "stdout",
          "text": [
            "Fetching data for BDEV.L\n",
            "Fetching data for BEZ.L\n"
          ]
        },
        {
          "output_type": "stream",
          "name": "stderr",
          "text": [
            "[*********************100%%**********************]  1 of 1 completed\n",
            "[*********************100%%**********************]  1 of 1 completed\n"
          ]
        },
        {
          "output_type": "stream",
          "name": "stdout",
          "text": [
            "Fetching data for BKG.L\n",
            "Fetching data for BME.L\n"
          ]
        },
        {
          "output_type": "stream",
          "name": "stderr",
          "text": [
            "[*********************100%%**********************]  1 of 1 completed\n",
            "[*********************100%%**********************]  1 of 1 completed\n"
          ]
        },
        {
          "output_type": "stream",
          "name": "stdout",
          "text": [
            "Fetching data for BNZL.L\n",
            "Fetching data for BP.L\n"
          ]
        },
        {
          "output_type": "stream",
          "name": "stderr",
          "text": [
            "[*********************100%%**********************]  1 of 1 completed\n",
            "[*********************100%%**********************]  1 of 1 completed\n"
          ]
        },
        {
          "output_type": "stream",
          "name": "stdout",
          "text": [
            "Fetching data for BRBY.L\n",
            "Fetching data for BT-A.L\n"
          ]
        },
        {
          "output_type": "stream",
          "name": "stderr",
          "text": [
            "[*********************100%%**********************]  1 of 1 completed\n",
            "[*********************100%%**********************]  1 of 1 completed\n"
          ]
        },
        {
          "output_type": "stream",
          "name": "stdout",
          "text": [
            "Fetching data for CCH.L\n",
            "Fetching data for CNA.L\n"
          ]
        },
        {
          "output_type": "stream",
          "name": "stderr",
          "text": [
            "[*********************100%%**********************]  1 of 1 completed\n",
            "[*********************100%%**********************]  1 of 1 completed\n"
          ]
        },
        {
          "output_type": "stream",
          "name": "stdout",
          "text": [
            "Fetching data for CPG.L\n",
            "Fetching data for CRDA.L\n"
          ]
        },
        {
          "output_type": "stream",
          "name": "stderr",
          "text": [
            "[*********************100%%**********************]  1 of 1 completed\n",
            "[*********************100%%**********************]  1 of 1 completed\n"
          ]
        },
        {
          "output_type": "stream",
          "name": "stdout",
          "text": [
            "Fetching data for CTEC.L\n",
            "Fetching data for DARK.L\n"
          ]
        },
        {
          "output_type": "stream",
          "name": "stderr",
          "text": [
            "\r[*********************100%%**********************]  1 of 1 completed\n"
          ]
        },
        {
          "output_type": "stream",
          "name": "stdout",
          "text": [
            "Fetching data for DCC.L\n"
          ]
        },
        {
          "output_type": "stream",
          "name": "stderr",
          "text": [
            "[*********************100%%**********************]  1 of 1 completed\n",
            "[*********************100%%**********************]  1 of 1 completed\n"
          ]
        },
        {
          "output_type": "stream",
          "name": "stdout",
          "text": [
            "Fetching data for DGE.L\n",
            "Fetching data for DPLM.L\n"
          ]
        },
        {
          "output_type": "stream",
          "name": "stderr",
          "text": [
            "[*********************100%%**********************]  1 of 1 completed\n",
            "[*********************100%%**********************]  1 of 1 completed\n"
          ]
        },
        {
          "output_type": "stream",
          "name": "stdout",
          "text": [
            "Fetching data for ENT.L\n",
            "Fetching data for EXPN.L\n"
          ]
        },
        {
          "output_type": "stream",
          "name": "stderr",
          "text": [
            "[*********************100%%**********************]  1 of 1 completed\n",
            "[*********************100%%**********************]  1 of 1 completed\n"
          ]
        },
        {
          "output_type": "stream",
          "name": "stdout",
          "text": [
            "Fetching data for EZJ.L\n",
            "Fetching data for FCIT.L\n"
          ]
        },
        {
          "output_type": "stream",
          "name": "stderr",
          "text": [
            "[*********************100%%**********************]  1 of 1 completed\n",
            "[*********************100%%**********************]  1 of 1 completed\n"
          ]
        },
        {
          "output_type": "stream",
          "name": "stdout",
          "text": [
            "Fetching data for FRAS.L\n",
            "Fetching data for FRES.L\n"
          ]
        },
        {
          "output_type": "stream",
          "name": "stderr",
          "text": [
            "[*********************100%%**********************]  1 of 1 completed\n",
            "[*********************100%%**********************]  1 of 1 completed\n"
          ]
        },
        {
          "output_type": "stream",
          "name": "stdout",
          "text": [
            "Fetching data for GLEN.L\n",
            "Fetching data for GSK.L\n"
          ]
        },
        {
          "output_type": "stream",
          "name": "stderr",
          "text": [
            "[*********************100%%**********************]  1 of 1 completed\n",
            "[*********************100%%**********************]  1 of 1 completed\n"
          ]
        },
        {
          "output_type": "stream",
          "name": "stdout",
          "text": [
            "Fetching data for HIK.L\n",
            "Fetching data for HL.L\n"
          ]
        },
        {
          "output_type": "stream",
          "name": "stderr",
          "text": [
            "[*********************100%%**********************]  1 of 1 completed\n",
            "[*********************100%%**********************]  1 of 1 completed\n"
          ]
        },
        {
          "output_type": "stream",
          "name": "stdout",
          "text": [
            "Fetching data for HLMA.L\n"
          ]
        },
        {
          "output_type": "stream",
          "name": "stderr",
          "text": [
            "\r[*********************100%%**********************]  1 of 1 completed\n"
          ]
        },
        {
          "output_type": "stream",
          "name": "stdout",
          "text": [
            "Fetching data for HLN.L\n",
            "Fetching data for HSBA.L\n"
          ]
        },
        {
          "output_type": "stream",
          "name": "stderr",
          "text": [
            "[*********************100%%**********************]  1 of 1 completed\n",
            "[*********************100%%**********************]  1 of 1 completed\n"
          ]
        },
        {
          "output_type": "stream",
          "name": "stdout",
          "text": [
            "Fetching data for HWDN.L\n",
            "Fetching data for IAG.L\n"
          ]
        },
        {
          "output_type": "stream",
          "name": "stderr",
          "text": [
            "\r[*********************100%%**********************]  1 of 1 completed\n"
          ]
        },
        {
          "output_type": "stream",
          "name": "stdout",
          "text": [
            "Fetching data for ICG.L\n"
          ]
        },
        {
          "output_type": "stream",
          "name": "stderr",
          "text": [
            "\r[*********************100%%**********************]  1 of 1 completed\n"
          ]
        },
        {
          "output_type": "stream",
          "name": "stdout",
          "text": [
            "Fetching data for IHG.L\n"
          ]
        },
        {
          "output_type": "stream",
          "name": "stderr",
          "text": [
            "[*********************100%%**********************]  1 of 1 completed\n",
            "[*********************100%%**********************]  1 of 1 completed\n"
          ]
        },
        {
          "output_type": "stream",
          "name": "stdout",
          "text": [
            "Fetching data for III.L\n",
            "Fetching data for IMB.L\n"
          ]
        },
        {
          "output_type": "stream",
          "name": "stderr",
          "text": [
            "[*********************100%%**********************]  1 of 1 completed\n",
            "[*********************100%%**********************]  1 of 1 completed"
          ]
        },
        {
          "output_type": "stream",
          "name": "stdout",
          "text": [
            "Fetching data for IMI.L\n"
          ]
        },
        {
          "output_type": "stream",
          "name": "stderr",
          "text": [
            "\n",
            "\r[*********************100%%**********************]  1 of 1 completed\n"
          ]
        },
        {
          "output_type": "stream",
          "name": "stdout",
          "text": [
            "Fetching data for INF.L\n",
            "Fetching data for ITRK.L\n"
          ]
        },
        {
          "output_type": "stream",
          "name": "stderr",
          "text": [
            "[*********************100%%**********************]  1 of 1 completed\n",
            "[*********************100%%**********************]  1 of 1 completed\n"
          ]
        },
        {
          "output_type": "stream",
          "name": "stdout",
          "text": [
            "Fetching data for JD.L\n"
          ]
        },
        {
          "output_type": "stream",
          "name": "stderr",
          "text": [
            "\r[*********************100%%**********************]  1 of 1 completed\n"
          ]
        },
        {
          "output_type": "stream",
          "name": "stdout",
          "text": [
            "Fetching data for KGF.L\n",
            "Fetching data for LAND.L\n"
          ]
        },
        {
          "output_type": "stream",
          "name": "stderr",
          "text": [
            "[*********************100%%**********************]  1 of 1 completed\n",
            "[*********************100%%**********************]  1 of 1 completed\n"
          ]
        },
        {
          "output_type": "stream",
          "name": "stdout",
          "text": [
            "Fetching data for LGEN.L\n",
            "Fetching data for LLOY.L\n"
          ]
        },
        {
          "output_type": "stream",
          "name": "stderr",
          "text": [
            "[*********************100%%**********************]  1 of 1 completed\n",
            "[*********************100%%**********************]  1 of 1 completed\n"
          ]
        },
        {
          "output_type": "stream",
          "name": "stdout",
          "text": [
            "Fetching data for LMP.L\n",
            "Fetching data for LSEG.L\n"
          ]
        },
        {
          "output_type": "stream",
          "name": "stderr",
          "text": [
            "[*********************100%%**********************]  1 of 1 completed\n",
            "[*********************100%%**********************]  1 of 1 completed"
          ]
        },
        {
          "output_type": "stream",
          "name": "stdout",
          "text": [
            "Fetching data for MKS.L\n"
          ]
        },
        {
          "output_type": "stream",
          "name": "stderr",
          "text": [
            "\n",
            "\r[*********************100%%**********************]  1 of 1 completed\n"
          ]
        },
        {
          "output_type": "stream",
          "name": "stdout",
          "text": [
            "Fetching data for MNG.L\n",
            "Fetching data for MNDI.L\n"
          ]
        },
        {
          "output_type": "stream",
          "name": "stderr",
          "text": [
            "\r[*********************100%%**********************]  1 of 1 completed\n"
          ]
        },
        {
          "output_type": "stream",
          "name": "stdout",
          "text": [
            "Fetching data for MRO.L\n"
          ]
        },
        {
          "output_type": "stream",
          "name": "stderr",
          "text": [
            "\r[*********************100%%**********************]  1 of 1 completed\n"
          ]
        },
        {
          "output_type": "stream",
          "name": "stdout",
          "text": [
            "Fetching data for NG.L\n"
          ]
        },
        {
          "output_type": "stream",
          "name": "stderr",
          "text": [
            "\r[*********************100%%**********************]  1 of 1 completed\n"
          ]
        },
        {
          "output_type": "stream",
          "name": "stdout",
          "text": [
            "Fetching data for NWG.L\n"
          ]
        },
        {
          "output_type": "stream",
          "name": "stderr",
          "text": [
            "\r[*********************100%%**********************]  1 of 1 completed\n"
          ]
        },
        {
          "output_type": "stream",
          "name": "stdout",
          "text": [
            "Fetching data for NXT.L\n"
          ]
        },
        {
          "output_type": "stream",
          "name": "stderr",
          "text": [
            "[*********************100%%**********************]  1 of 1 completed\n",
            "[*********************100%%**********************]  1 of 1 completed\n"
          ]
        },
        {
          "output_type": "stream",
          "name": "stdout",
          "text": [
            "Fetching data for PHNX.L\n",
            "Fetching data for PRU.L\n"
          ]
        },
        {
          "output_type": "stream",
          "name": "stderr",
          "text": [
            "[*********************100%%**********************]  1 of 1 completed\n",
            "[*********************100%%**********************]  1 of 1 completed\n"
          ]
        },
        {
          "output_type": "stream",
          "name": "stdout",
          "text": [
            "Fetching data for PSH.L\n",
            "Fetching data for PSN.L\n"
          ]
        },
        {
          "output_type": "stream",
          "name": "stderr",
          "text": [
            "[*********************100%%**********************]  1 of 1 completed\n",
            "[*********************100%%**********************]  1 of 1 completed\n"
          ]
        },
        {
          "output_type": "stream",
          "name": "stdout",
          "text": [
            "Fetching data for PSON.L\n",
            "Fetching data for REL.L\n"
          ]
        },
        {
          "output_type": "stream",
          "name": "stderr",
          "text": [
            "[*********************100%%**********************]  1 of 1 completed\n",
            "[*********************100%%**********************]  1 of 1 completed\n"
          ]
        },
        {
          "output_type": "stream",
          "name": "stdout",
          "text": [
            "Fetching data for RIO.L\n",
            "Fetching data for RKT.L\n"
          ]
        },
        {
          "output_type": "stream",
          "name": "stderr",
          "text": [
            "\r[*********************100%%**********************]  1 of 1 completed\n"
          ]
        },
        {
          "output_type": "stream",
          "name": "stdout",
          "text": [
            "Fetching data for RMV.L\n"
          ]
        },
        {
          "output_type": "stream",
          "name": "stderr",
          "text": [
            "[*********************100%%**********************]  1 of 1 completed\n",
            "[*********************100%%**********************]  1 of 1 completed\n"
          ]
        },
        {
          "output_type": "stream",
          "name": "stdout",
          "text": [
            "Fetching data for RR.L\n",
            "Fetching data for RTO.L\n"
          ]
        },
        {
          "output_type": "stream",
          "name": "stderr",
          "text": [
            "\r[*********************100%%**********************]  1 of 1 completed\n"
          ]
        },
        {
          "output_type": "stream",
          "name": "stdout",
          "text": [
            "Fetching data for SBRY.L\n"
          ]
        },
        {
          "output_type": "stream",
          "name": "stderr",
          "text": [
            "[*********************100%%**********************]  1 of 1 completed\n",
            "[*********************100%%**********************]  1 of 1 completed"
          ]
        },
        {
          "output_type": "stream",
          "name": "stdout",
          "text": [
            "Fetching data for SDR.L\n"
          ]
        },
        {
          "output_type": "stream",
          "name": "stderr",
          "text": [
            "\n"
          ]
        },
        {
          "output_type": "stream",
          "name": "stdout",
          "text": [
            "Fetching data for SGE.L\n"
          ]
        },
        {
          "output_type": "stream",
          "name": "stderr",
          "text": [
            "[*********************100%%**********************]  1 of 1 completed\n",
            "[*********************100%%**********************]  1 of 1 completed\n"
          ]
        },
        {
          "output_type": "stream",
          "name": "stdout",
          "text": [
            "Fetching data for SGRO.L\n",
            "Fetching data for SHEL.L\n"
          ]
        },
        {
          "output_type": "stream",
          "name": "stderr",
          "text": [
            "[*********************100%%**********************]  1 of 1 completed\n",
            "[*********************100%%**********************]  1 of 1 completed\n"
          ]
        },
        {
          "output_type": "stream",
          "name": "stdout",
          "text": [
            "Fetching data for SKG.L\n",
            "Fetching data for SMDS.L\n"
          ]
        },
        {
          "output_type": "stream",
          "name": "stderr",
          "text": [
            "\r[*********************100%%**********************]  1 of 1 completed\n"
          ]
        },
        {
          "output_type": "stream",
          "name": "stdout",
          "text": [
            "Fetching data for SMIN.L\n"
          ]
        },
        {
          "output_type": "stream",
          "name": "stderr",
          "text": [
            "\r[*********************100%%**********************]  1 of 1 completed\n"
          ]
        },
        {
          "output_type": "stream",
          "name": "stdout",
          "text": [
            "Fetching data for SMT.L\n"
          ]
        },
        {
          "output_type": "stream",
          "name": "stderr",
          "text": [
            "[*********************100%%**********************]  1 of 1 completed\n",
            "[*********************100%%**********************]  1 of 1 completed\n"
          ]
        },
        {
          "output_type": "stream",
          "name": "stdout",
          "text": [
            "Fetching data for SN.L\n",
            "Fetching data for SPX.L\n"
          ]
        },
        {
          "output_type": "stream",
          "name": "stderr",
          "text": [
            "[*********************100%%**********************]  1 of 1 completed\n",
            "[*********************100%%**********************]  1 of 1 completed\n"
          ]
        },
        {
          "output_type": "stream",
          "name": "stdout",
          "text": [
            "Fetching data for SSE.L\n",
            "Fetching data for STAN.L\n"
          ]
        },
        {
          "output_type": "stream",
          "name": "stderr",
          "text": [
            "[*********************100%%**********************]  1 of 1 completed\n",
            "[*********************100%%**********************]  1 of 1 completed\n"
          ]
        },
        {
          "output_type": "stream",
          "name": "stdout",
          "text": [
            "Fetching data for SVT.L\n",
            "Fetching data for TSCO.L\n"
          ]
        },
        {
          "output_type": "stream",
          "name": "stderr",
          "text": [
            "\r[*********************100%%**********************]  1 of 1 completed\n"
          ]
        },
        {
          "output_type": "stream",
          "name": "stdout",
          "text": [
            "Fetching data for TW.L\n"
          ]
        },
        {
          "output_type": "stream",
          "name": "stderr",
          "text": [
            "\r[*********************100%%**********************]  1 of 1 completed\n"
          ]
        },
        {
          "output_type": "stream",
          "name": "stdout",
          "text": [
            "Fetching data for ULVR.L\n"
          ]
        },
        {
          "output_type": "stream",
          "name": "stderr",
          "text": [
            "[*********************100%%**********************]  1 of 1 completed\n",
            "[*********************100%%**********************]  1 of 1 completed\n"
          ]
        },
        {
          "output_type": "stream",
          "name": "stdout",
          "text": [
            "Fetching data for UTG.L\n",
            "Fetching data for UU.L\n"
          ]
        },
        {
          "output_type": "stream",
          "name": "stderr",
          "text": [
            "[*********************100%%**********************]  1 of 1 completed\n",
            "[*********************100%%**********************]  1 of 1 completed\n"
          ]
        },
        {
          "output_type": "stream",
          "name": "stdout",
          "text": [
            "Fetching data for VOD.L\n",
            "Fetching data for VTY.L\n"
          ]
        },
        {
          "output_type": "stream",
          "name": "stderr",
          "text": [
            "\r[*********************100%%**********************]  1 of 1 completed\n"
          ]
        },
        {
          "output_type": "stream",
          "name": "stdout",
          "text": [
            "Fetching data for WEIR.L\n"
          ]
        },
        {
          "output_type": "stream",
          "name": "stderr",
          "text": [
            "[*********************100%%**********************]  1 of 1 completed\n",
            "[*********************100%%**********************]  1 of 1 completed\n"
          ]
        },
        {
          "output_type": "stream",
          "name": "stdout",
          "text": [
            "Fetching data for WPP.L\n",
            "Fetching data for WTB.L\n"
          ]
        },
        {
          "output_type": "stream",
          "name": "stderr",
          "text": [
            "\r[*********************100%%**********************]  1 of 1 completed\n"
          ]
        },
        {
          "output_type": "stream",
          "name": "stdout",
          "text": [
            "Data has been saved to ftse100_historical_data.csv\n"
          ]
        }
      ]
    },
    {
      "cell_type": "code",
      "source": [
        "df_allstocks = pd.read_csv('ftse100_historical_data.csv')"
      ],
      "metadata": {
        "id": "9J5yl41gckBw"
      },
      "execution_count": null,
      "outputs": []
    },
    {
      "cell_type": "code",
      "source": [
        "df_allstocks = df_allstocks.pivot(index='Date', columns='Ticker', values='Adj Close')\n",
        "df_allstocks.reset_index(inplace=True)\n",
        "df_allstocks.columns.name = None\n",
        "df_allstocks = df_allstocks.set_index('Date')"
      ],
      "metadata": {
        "id": "SQS1x1h1SVmt"
      },
      "execution_count": null,
      "outputs": []
    },
    {
      "cell_type": "code",
      "source": [
        "df_allstocks.info()"
      ],
      "metadata": {
        "colab": {
          "base_uri": "https://localhost:8080/"
        },
        "id": "EZ0RJlXCSlPo",
        "outputId": "8478006f-685b-4736-f5cb-078555725018"
      },
      "execution_count": null,
      "outputs": [
        {
          "output_type": "stream",
          "name": "stdout",
          "text": [
            "<class 'pandas.core.frame.DataFrame'>\n",
            "Index: 2778 entries, 2013-01-02 to 2023-12-29\n",
            "Data columns (total 100 columns):\n",
            " #   Column  Non-Null Count  Dtype  \n",
            "---  ------  --------------  -----  \n",
            " 0   AAF.L   1137 non-null   float64\n",
            " 1   AAL.L   2776 non-null   float64\n",
            " 2   ABF.L   2778 non-null   float64\n",
            " 3   ADM.L   2778 non-null   float64\n",
            " 4   AHT.L   2778 non-null   float64\n",
            " 5   ANTO.L  2778 non-null   float64\n",
            " 6   AUTO.L  2218 non-null   float64\n",
            " 7   AV.L    2778 non-null   float64\n",
            " 8   AZN.L   2778 non-null   float64\n",
            " 9   BA.L    2778 non-null   float64\n",
            " 10  BARC.L  2777 non-null   float64\n",
            " 11  BATS.L  2777 non-null   float64\n",
            " 12  BDEV.L  2778 non-null   float64\n",
            " 13  BEZ.L   2778 non-null   float64\n",
            " 14  BKG.L   2778 non-null   float64\n",
            " 15  BME.L   2414 non-null   float64\n",
            " 16  BNZL.L  2778 non-null   float64\n",
            " 17  BP.L    2771 non-null   float64\n",
            " 18  BRBY.L  2778 non-null   float64\n",
            " 19  BT-A.L  2778 non-null   float64\n",
            " 20  CCH.L   2697 non-null   float64\n",
            " 21  CNA.L   2778 non-null   float64\n",
            " 22  CPG.L   2777 non-null   float64\n",
            " 23  CRDA.L  2777 non-null   float64\n",
            " 24  CTEC.L  1812 non-null   float64\n",
            " 25  DARK.L  668 non-null    float64\n",
            " 26  DCC.L   2777 non-null   float64\n",
            " 27  DGE.L   2778 non-null   float64\n",
            " 28  DPLM.L  2778 non-null   float64\n",
            " 29  ENT.L   2778 non-null   float64\n",
            " 30  EXPN.L  2777 non-null   float64\n",
            " 31  EZJ.L   2777 non-null   float64\n",
            " 32  FCIT.L  2778 non-null   float64\n",
            " 33  FRAS.L  2778 non-null   float64\n",
            " 34  FRES.L  2778 non-null   float64\n",
            " 35  GLEN.L  2772 non-null   float64\n",
            " 36  GSK.L   2777 non-null   float64\n",
            " 37  HIK.L   2777 non-null   float64\n",
            " 38  HL.L    2778 non-null   float64\n",
            " 39  HLMA.L  2778 non-null   float64\n",
            " 40  HLN.L   367 non-null    float64\n",
            " 41  HSBA.L  2778 non-null   float64\n",
            " 42  HWDN.L  2778 non-null   float64\n",
            " 43  IAG.L   2771 non-null   float64\n",
            " 44  ICG.L   2778 non-null   float64\n",
            " 45  IHG.L   2777 non-null   float64\n",
            " 46  III.L   2778 non-null   float64\n",
            " 47  IMB.L   2778 non-null   float64\n",
            " 48  IMI.L   2778 non-null   float64\n",
            " 49  INF.L   2778 non-null   float64\n",
            " 50  ITRK.L  2777 non-null   float64\n",
            " 51  JD.L    2778 non-null   float64\n",
            " 52  KGF.L   2778 non-null   float64\n",
            " 53  LAND.L  2778 non-null   float64\n",
            " 54  LGEN.L  2778 non-null   float64\n",
            " 55  LLOY.L  2776 non-null   float64\n",
            " 56  LMP.L   2778 non-null   float64\n",
            " 57  LSEG.L  2778 non-null   float64\n",
            " 58  MKS.L   2778 non-null   float64\n",
            " 59  MNDI.L  2778 non-null   float64\n",
            " 60  MNG.L   1058 non-null   float64\n",
            " 61  MRO.L   2778 non-null   float64\n",
            " 62  NG.L    2778 non-null   float64\n",
            " 63  NWG.L   2778 non-null   float64\n",
            " 64  NXT.L   2778 non-null   float64\n",
            " 65  PHNX.L  2778 non-null   float64\n",
            " 66  PRU.L   2778 non-null   float64\n",
            " 67  PSH.L   1716 non-null   float64\n",
            " 68  PSN.L   2778 non-null   float64\n",
            " 69  PSON.L  2778 non-null   float64\n",
            " 70  REL.L   2778 non-null   float64\n",
            " 71  RIO.L   2777 non-null   float64\n",
            " 72  RKT.L   2778 non-null   float64\n",
            " 73  RMV.L   2778 non-null   float64\n",
            " 74  RR.L    2778 non-null   float64\n",
            " 75  RTO.L   2777 non-null   float64\n",
            " 76  SBRY.L  2778 non-null   float64\n",
            " 77  SDR.L   2778 non-null   float64\n",
            " 78  SGE.L   2777 non-null   float64\n",
            " 79  SGRO.L  2777 non-null   float64\n",
            " 80  SHEL.L  2776 non-null   float64\n",
            " 81  SKG.L   2778 non-null   float64\n",
            " 82  SMDS.L  2778 non-null   float64\n",
            " 83  SMIN.L  2778 non-null   float64\n",
            " 84  SMT.L   2778 non-null   float64\n",
            " 85  SN.L    2778 non-null   float64\n",
            " 86  SPX.L   2778 non-null   float64\n",
            " 87  SSE.L   2778 non-null   float64\n",
            " 88  STAN.L  2778 non-null   float64\n",
            " 89  SVT.L   2778 non-null   float64\n",
            " 90  TSCO.L  2777 non-null   float64\n",
            " 91  TW.L    2777 non-null   float64\n",
            " 92  ULVR.L  2777 non-null   float64\n",
            " 93  UTG.L   2778 non-null   float64\n",
            " 94  UU.L    2778 non-null   float64\n",
            " 95  VOD.L   2777 non-null   float64\n",
            " 96  VTY.L   2778 non-null   float64\n",
            " 97  WEIR.L  2777 non-null   float64\n",
            " 98  WPP.L   2777 non-null   float64\n",
            " 99  WTB.L   2777 non-null   float64\n",
            "dtypes: float64(100)\n",
            "memory usage: 2.1+ MB\n"
          ]
        }
      ]
    },
    {
      "cell_type": "code",
      "source": [
        "df_allstocks.isnull().sum()"
      ],
      "metadata": {
        "colab": {
          "base_uri": "https://localhost:8080/"
        },
        "id": "AAyBIJ0QS_Xx",
        "outputId": "6458e050-a641-40da-bdb8-31fb0afbfdcf"
      },
      "execution_count": null,
      "outputs": [
        {
          "output_type": "execute_result",
          "data": {
            "text/plain": [
              "AAF.L     1641\n",
              "AAL.L        2\n",
              "ABF.L        0\n",
              "ADM.L        0\n",
              "AHT.L        0\n",
              "          ... \n",
              "VOD.L        1\n",
              "VTY.L        0\n",
              "WEIR.L       1\n",
              "WPP.L        1\n",
              "WTB.L        1\n",
              "Length: 100, dtype: int64"
            ]
          },
          "metadata": {},
          "execution_count": 34
        }
      ]
    },
    {
      "cell_type": "code",
      "source": [
        "df_allstocks.dropna(inplace=True,axis=1)"
      ],
      "metadata": {
        "id": "A0D-gHGlTPa-"
      },
      "execution_count": null,
      "outputs": []
    },
    {
      "cell_type": "code",
      "source": [
        "df_allstocks.info()"
      ],
      "metadata": {
        "colab": {
          "base_uri": "https://localhost:8080/"
        },
        "id": "WDY8vVoFUmA5",
        "outputId": "2f66fa64-010a-4fa3-b937-31eb2a97f58d"
      },
      "execution_count": null,
      "outputs": [
        {
          "output_type": "stream",
          "name": "stdout",
          "text": [
            "<class 'pandas.core.frame.DataFrame'>\n",
            "Index: 2778 entries, 2013-01-02 to 2023-12-29\n",
            "Data columns (total 63 columns):\n",
            " #   Column  Non-Null Count  Dtype  \n",
            "---  ------  --------------  -----  \n",
            " 0   ABF.L   2778 non-null   float64\n",
            " 1   ADM.L   2778 non-null   float64\n",
            " 2   AHT.L   2778 non-null   float64\n",
            " 3   ANTO.L  2778 non-null   float64\n",
            " 4   AV.L    2778 non-null   float64\n",
            " 5   AZN.L   2778 non-null   float64\n",
            " 6   BA.L    2778 non-null   float64\n",
            " 7   BDEV.L  2778 non-null   float64\n",
            " 8   BEZ.L   2778 non-null   float64\n",
            " 9   BKG.L   2778 non-null   float64\n",
            " 10  BNZL.L  2778 non-null   float64\n",
            " 11  BRBY.L  2778 non-null   float64\n",
            " 12  BT-A.L  2778 non-null   float64\n",
            " 13  CNA.L   2778 non-null   float64\n",
            " 14  DGE.L   2778 non-null   float64\n",
            " 15  DPLM.L  2778 non-null   float64\n",
            " 16  ENT.L   2778 non-null   float64\n",
            " 17  FCIT.L  2778 non-null   float64\n",
            " 18  FRAS.L  2778 non-null   float64\n",
            " 19  FRES.L  2778 non-null   float64\n",
            " 20  HL.L    2778 non-null   float64\n",
            " 21  HLMA.L  2778 non-null   float64\n",
            " 22  HSBA.L  2778 non-null   float64\n",
            " 23  HWDN.L  2778 non-null   float64\n",
            " 24  ICG.L   2778 non-null   float64\n",
            " 25  III.L   2778 non-null   float64\n",
            " 26  IMB.L   2778 non-null   float64\n",
            " 27  IMI.L   2778 non-null   float64\n",
            " 28  INF.L   2778 non-null   float64\n",
            " 29  JD.L    2778 non-null   float64\n",
            " 30  KGF.L   2778 non-null   float64\n",
            " 31  LAND.L  2778 non-null   float64\n",
            " 32  LGEN.L  2778 non-null   float64\n",
            " 33  LMP.L   2778 non-null   float64\n",
            " 34  LSEG.L  2778 non-null   float64\n",
            " 35  MKS.L   2778 non-null   float64\n",
            " 36  MNDI.L  2778 non-null   float64\n",
            " 37  MRO.L   2778 non-null   float64\n",
            " 38  NG.L    2778 non-null   float64\n",
            " 39  NWG.L   2778 non-null   float64\n",
            " 40  NXT.L   2778 non-null   float64\n",
            " 41  PHNX.L  2778 non-null   float64\n",
            " 42  PRU.L   2778 non-null   float64\n",
            " 43  PSN.L   2778 non-null   float64\n",
            " 44  PSON.L  2778 non-null   float64\n",
            " 45  REL.L   2778 non-null   float64\n",
            " 46  RKT.L   2778 non-null   float64\n",
            " 47  RMV.L   2778 non-null   float64\n",
            " 48  RR.L    2778 non-null   float64\n",
            " 49  SBRY.L  2778 non-null   float64\n",
            " 50  SDR.L   2778 non-null   float64\n",
            " 51  SKG.L   2778 non-null   float64\n",
            " 52  SMDS.L  2778 non-null   float64\n",
            " 53  SMIN.L  2778 non-null   float64\n",
            " 54  SMT.L   2778 non-null   float64\n",
            " 55  SN.L    2778 non-null   float64\n",
            " 56  SPX.L   2778 non-null   float64\n",
            " 57  SSE.L   2778 non-null   float64\n",
            " 58  STAN.L  2778 non-null   float64\n",
            " 59  SVT.L   2778 non-null   float64\n",
            " 60  UTG.L   2778 non-null   float64\n",
            " 61  UU.L    2778 non-null   float64\n",
            " 62  VTY.L   2778 non-null   float64\n",
            "dtypes: float64(63)\n",
            "memory usage: 1.4+ MB\n"
          ]
        }
      ]
    }
  ]
}