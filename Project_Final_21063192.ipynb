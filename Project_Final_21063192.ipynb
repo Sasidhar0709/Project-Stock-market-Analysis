{
  "nbformat": 4,
  "nbformat_minor": 0,
  "metadata": {
    "colab": {
      "provenance": [],
      "gpuType": "T4",
      "authorship_tag": "ABX9TyNJWRVAIdat+A7XF7ltuJr8",
      "include_colab_link": true
    },
    "kernelspec": {
      "name": "python3",
      "display_name": "Python 3"
    },
    "language_info": {
      "name": "python"
    },
    "accelerator": "GPU"
  },
  "cells": [
    {
      "cell_type": "markdown",
      "metadata": {
        "id": "view-in-github",
        "colab_type": "text"
      },
      "source": [
        "<a href=\"https://colab.research.google.com/github/Sasidhar0709/Project-Stock-market-Analysis/blob/main/Project_Final_21063192.ipynb\" target=\"_parent\"><img src=\"https://colab.research.google.com/assets/colab-badge.svg\" alt=\"Open In Colab\"/></a>"
      ]
    },
    {
      "cell_type": "code",
      "source": [
        "!pip install yfinance"
      ],
      "metadata": {
        "colab": {
          "base_uri": "https://localhost:8080/"
        },
        "id": "Y1gOlwxR1E2m",
        "outputId": "0985d625-73ef-4da7-efba-ae245b5fb16a"
      },
      "execution_count": null,
      "outputs": [
        {
          "output_type": "stream",
          "name": "stdout",
          "text": [
            "Requirement already satisfied: yfinance in /usr/local/lib/python3.10/dist-packages (0.2.40)\n",
            "Requirement already satisfied: pandas>=1.3.0 in /usr/local/lib/python3.10/dist-packages (from yfinance) (2.0.3)\n",
            "Requirement already satisfied: numpy>=1.16.5 in /usr/local/lib/python3.10/dist-packages (from yfinance) (1.25.2)\n",
            "Requirement already satisfied: requests>=2.31 in /usr/local/lib/python3.10/dist-packages (from yfinance) (2.31.0)\n",
            "Requirement already satisfied: multitasking>=0.0.7 in /usr/local/lib/python3.10/dist-packages (from yfinance) (0.0.11)\n",
            "Requirement already satisfied: lxml>=4.9.1 in /usr/local/lib/python3.10/dist-packages (from yfinance) (4.9.4)\n",
            "Requirement already satisfied: platformdirs>=2.0.0 in /usr/local/lib/python3.10/dist-packages (from yfinance) (4.2.2)\n",
            "Requirement already satisfied: pytz>=2022.5 in /usr/local/lib/python3.10/dist-packages (from yfinance) (2023.4)\n",
            "Requirement already satisfied: frozendict>=2.3.4 in /usr/local/lib/python3.10/dist-packages (from yfinance) (2.4.4)\n",
            "Requirement already satisfied: peewee>=3.16.2 in /usr/local/lib/python3.10/dist-packages (from yfinance) (3.17.5)\n",
            "Requirement already satisfied: beautifulsoup4>=4.11.1 in /usr/local/lib/python3.10/dist-packages (from yfinance) (4.12.3)\n",
            "Requirement already satisfied: html5lib>=1.1 in /usr/local/lib/python3.10/dist-packages (from yfinance) (1.1)\n",
            "Requirement already satisfied: soupsieve>1.2 in /usr/local/lib/python3.10/dist-packages (from beautifulsoup4>=4.11.1->yfinance) (2.5)\n",
            "Requirement already satisfied: six>=1.9 in /usr/local/lib/python3.10/dist-packages (from html5lib>=1.1->yfinance) (1.16.0)\n",
            "Requirement already satisfied: webencodings in /usr/local/lib/python3.10/dist-packages (from html5lib>=1.1->yfinance) (0.5.1)\n",
            "Requirement already satisfied: python-dateutil>=2.8.2 in /usr/local/lib/python3.10/dist-packages (from pandas>=1.3.0->yfinance) (2.8.2)\n",
            "Requirement already satisfied: tzdata>=2022.1 in /usr/local/lib/python3.10/dist-packages (from pandas>=1.3.0->yfinance) (2024.1)\n",
            "Requirement already satisfied: charset-normalizer<4,>=2 in /usr/local/lib/python3.10/dist-packages (from requests>=2.31->yfinance) (3.3.2)\n",
            "Requirement already satisfied: idna<4,>=2.5 in /usr/local/lib/python3.10/dist-packages (from requests>=2.31->yfinance) (3.7)\n",
            "Requirement already satisfied: urllib3<3,>=1.21.1 in /usr/local/lib/python3.10/dist-packages (from requests>=2.31->yfinance) (2.0.7)\n",
            "Requirement already satisfied: certifi>=2017.4.17 in /usr/local/lib/python3.10/dist-packages (from requests>=2.31->yfinance) (2024.6.2)\n"
          ]
        }
      ]
    },
    {
      "cell_type": "code",
      "execution_count": null,
      "metadata": {
        "id": "Lt1jSP86oZMT"
      },
      "outputs": [],
      "source": [
        "import numpy as np\n",
        "import pandas as pd\n",
        "import matplotlib.pyplot as plt\n",
        "import seaborn as sns\n",
        "import datetime\n",
        "import yfinance as yf\n",
        "from scipy.interpolate import interp1d\n",
        "from scipy.stats import linregress\n",
        "import warnings\n",
        "warnings.filterwarnings('ignore')"
      ]
    },
    {
      "cell_type": "code",
      "source": [
        "# List of FTSE 100 ticker symbols (replace with actual FTSE 100 tickers)\n",
        "ftse100_ticker_symbols = [\n",
        "    'III.L', 'ADM.L', 'AAL.L', 'ABF.L', 'AZN.L', 'AUTO.L', 'AV.L', 'AVST.L', 'BME.L', 'BA.L',\n",
        "    'BARC.L', 'BDEV.L', 'BKG.L', 'BHP.L', 'BP.L', 'BATS.L', 'BLND.L', 'BT-A.L', 'BNZL.L', 'CCH.L',\n",
        "    'CPG.L', 'CRH.L', 'CRDA.L', 'DCC.L', 'DGE.L', 'ENT.L', 'EVR.L', 'EXPN.L', 'FERG.L', 'FLTR.L',\n",
        "    'FRES.L', 'GLEN.L', 'GSK.L', 'HLMA.L', 'HL.L', 'HSBA.L', 'HIK.L', 'HLE.L', 'IHG.L', 'IMB.L',\n",
        "    'INF.L', 'ICP.L', 'IAG.L', 'ITRK.L', 'JMAT.L', 'JET.L', 'KGF.L', 'LAND.L', 'LGEN.L', 'LLOY.L',\n",
        "    'LSEG.L', 'MNG.L', 'MRO.L', 'MNDI.L', 'MCRO.L', 'NG.L', 'NXT.L', 'NPN.L', 'OCDO.L', 'PHNX.L',\n",
        "    'POLY.L', 'PSN.L', 'PRU.L', 'RDSA.L', 'RDSB.L', 'RB.L', 'REL.L', 'RMV.L', 'RIO.L', 'RR.L',\n",
        "    'RTO.L', 'SGE.L', 'SBRY.L', 'SDR.L', 'SMDS.L', 'SMIN.L', 'SKG.L', 'SN.L', 'SMT.L', 'SPX.L',\n",
        "    'SSE.L', 'STAN.L', 'SLA.L', 'STJ.L', 'TSCO.L', 'TUI.L', 'ULVR.L', 'UU.L', 'VOD.L', 'WTB.L',\n",
        "    'WPP.L'\n",
        "]\n",
        "\n",
        "# Define the period (10 years from today's date)\n",
        "end_date = datetime.datetime.today()\n",
        "start_date = end_date - datetime.timedelta(days=10*365)\n",
        "\n",
        "# Dictionary to store data for each stock\n",
        "stocks_data = {}\n",
        "\n",
        "# Fetch historical data for each ticker symbol\n",
        "for ticker in ftse100_ticker_symbols:\n",
        "    print(f\"Fetching data for {ticker}...\")\n",
        "    data = yf.download(ticker, start=start_date, end=end_date)\n",
        "    stocks_data[ticker] = data\n",
        "\n",
        "# Save each stock's data to a separate CSV file\n",
        "for ticker, data in stocks_data.items():\n",
        "    data.to_csv(f'{ticker}_stock_data.csv')\n",
        "    print(f\"Data for {ticker} saved to {ticker}_stock_data.csv\")\n"
      ],
      "metadata": {
        "colab": {
          "base_uri": "https://localhost:8080/"
        },
        "id": "MrCdEJzlXZ_i",
        "outputId": "a4c31e9e-c9ff-46be-8e9c-88b8e2b9e2ec"
      },
      "execution_count": null,
      "outputs": [
        {
          "output_type": "stream",
          "name": "stdout",
          "text": [
            "Fetching data for III.L...\n"
          ]
        },
        {
          "output_type": "stream",
          "name": "stderr",
          "text": [
            "[*********************100%%**********************]  1 of 1 completed\n",
            "[*********************100%%**********************]  1 of 1 completed\n"
          ]
        },
        {
          "output_type": "stream",
          "name": "stdout",
          "text": [
            "Fetching data for ADM.L...\n",
            "Fetching data for AAL.L...\n"
          ]
        },
        {
          "output_type": "stream",
          "name": "stderr",
          "text": [
            "\r[*********************100%%**********************]  1 of 1 completed\n"
          ]
        },
        {
          "output_type": "stream",
          "name": "stdout",
          "text": [
            "Fetching data for ABF.L...\n"
          ]
        },
        {
          "output_type": "stream",
          "name": "stderr",
          "text": [
            "\r[*********************100%%**********************]  1 of 1 completed\n"
          ]
        },
        {
          "output_type": "stream",
          "name": "stdout",
          "text": [
            "Fetching data for AZN.L...\n"
          ]
        },
        {
          "output_type": "stream",
          "name": "stderr",
          "text": [
            "[*********************100%%**********************]  1 of 1 completed\n",
            "[*********************100%%**********************]  1 of 1 completed\n"
          ]
        },
        {
          "output_type": "stream",
          "name": "stdout",
          "text": [
            "Fetching data for AUTO.L...\n",
            "Fetching data for AV.L...\n"
          ]
        },
        {
          "output_type": "stream",
          "name": "stderr",
          "text": [
            "\r[*********************100%%**********************]  1 of 1 completed\n"
          ]
        },
        {
          "output_type": "stream",
          "name": "stdout",
          "text": [
            "Fetching data for AVST.L...\n"
          ]
        },
        {
          "output_type": "stream",
          "name": "stderr",
          "text": [
            "\r[*********************100%%**********************]  1 of 1 completed\n",
            "ERROR:yfinance:\n",
            "1 Failed download:\n",
            "ERROR:yfinance:['AVST.L']: YFTzMissingError('$%ticker%: possibly delisted; No timezone found')\n",
            "[*********************100%%**********************]  1 of 1 completed\n"
          ]
        },
        {
          "output_type": "stream",
          "name": "stdout",
          "text": [
            "Fetching data for BME.L...\n",
            "Fetching data for BA.L...\n"
          ]
        },
        {
          "output_type": "stream",
          "name": "stderr",
          "text": [
            "[*********************100%%**********************]  1 of 1 completed\n",
            "[*********************100%%**********************]  1 of 1 completed"
          ]
        },
        {
          "output_type": "stream",
          "name": "stdout",
          "text": [
            "Fetching data for BARC.L...\n"
          ]
        },
        {
          "output_type": "stream",
          "name": "stderr",
          "text": [
            "\n"
          ]
        },
        {
          "output_type": "stream",
          "name": "stdout",
          "text": [
            "Fetching data for BDEV.L...\n"
          ]
        },
        {
          "output_type": "stream",
          "name": "stderr",
          "text": [
            "\r[*********************100%%**********************]  1 of 1 completed\n"
          ]
        },
        {
          "output_type": "stream",
          "name": "stdout",
          "text": [
            "Fetching data for BKG.L...\n"
          ]
        },
        {
          "output_type": "stream",
          "name": "stderr",
          "text": [
            "[*********************100%%**********************]  1 of 1 completed\n",
            "[*********************100%%**********************]  1 of 1 completed\n"
          ]
        },
        {
          "output_type": "stream",
          "name": "stdout",
          "text": [
            "Fetching data for BHP.L...\n",
            "Fetching data for BP.L...\n"
          ]
        },
        {
          "output_type": "stream",
          "name": "stderr",
          "text": [
            "\r[*********************100%%**********************]  1 of 1 completed\n"
          ]
        },
        {
          "output_type": "stream",
          "name": "stdout",
          "text": [
            "Fetching data for BATS.L...\n"
          ]
        },
        {
          "output_type": "stream",
          "name": "stderr",
          "text": [
            "[*********************100%%**********************]  1 of 1 completed\n",
            "[*********************100%%**********************]  1 of 1 completed"
          ]
        },
        {
          "output_type": "stream",
          "name": "stdout",
          "text": [
            "Fetching data for BLND.L...\n"
          ]
        },
        {
          "output_type": "stream",
          "name": "stderr",
          "text": [
            "\n",
            "[*********************100%%**********************]  1 of 1 completed"
          ]
        },
        {
          "output_type": "stream",
          "name": "stdout",
          "text": [
            "Fetching data for BT-A.L...\n"
          ]
        },
        {
          "output_type": "stream",
          "name": "stderr",
          "text": [
            "\n",
            "\r[*********************100%%**********************]  1 of 1 completed\n"
          ]
        },
        {
          "output_type": "stream",
          "name": "stdout",
          "text": [
            "Fetching data for BNZL.L...\n",
            "Fetching data for CCH.L...\n"
          ]
        },
        {
          "output_type": "stream",
          "name": "stderr",
          "text": [
            "[*********************100%%**********************]  1 of 1 completed\n",
            "[*********************100%%**********************]  1 of 1 completed"
          ]
        },
        {
          "output_type": "stream",
          "name": "stdout",
          "text": [
            "Fetching data for CPG.L...\n"
          ]
        },
        {
          "output_type": "stream",
          "name": "stderr",
          "text": [
            "\n",
            "\r[*********************100%%**********************]  1 of 1 completed\n"
          ]
        },
        {
          "output_type": "stream",
          "name": "stdout",
          "text": [
            "Fetching data for CRH.L...\n",
            "Fetching data for CRDA.L...\n"
          ]
        },
        {
          "output_type": "stream",
          "name": "stderr",
          "text": [
            "[*********************100%%**********************]  1 of 1 completed\n",
            "[*********************100%%**********************]  1 of 1 completed\n"
          ]
        },
        {
          "output_type": "stream",
          "name": "stdout",
          "text": [
            "Fetching data for DCC.L...\n",
            "Fetching data for DGE.L...\n"
          ]
        },
        {
          "output_type": "stream",
          "name": "stderr",
          "text": [
            "[*********************100%%**********************]  1 of 1 completed\n",
            "[*********************100%%**********************]  1 of 1 completed\n"
          ]
        },
        {
          "output_type": "stream",
          "name": "stdout",
          "text": [
            "Fetching data for ENT.L...\n",
            "Fetching data for EVR.L...\n"
          ]
        },
        {
          "output_type": "stream",
          "name": "stderr",
          "text": [
            "[*********************100%%**********************]  1 of 1 completed\n",
            "[*********************100%%**********************]  1 of 1 completed\n"
          ]
        },
        {
          "output_type": "stream",
          "name": "stdout",
          "text": [
            "Fetching data for EXPN.L...\n",
            "Fetching data for FERG.L...\n"
          ]
        },
        {
          "output_type": "stream",
          "name": "stderr",
          "text": [
            "[*********************100%%**********************]  1 of 1 completed\n",
            "[*********************100%%**********************]  1 of 1 completed\n"
          ]
        },
        {
          "output_type": "stream",
          "name": "stdout",
          "text": [
            "Fetching data for FLTR.L...\n",
            "Fetching data for FRES.L...\n"
          ]
        },
        {
          "output_type": "stream",
          "name": "stderr",
          "text": [
            "[*********************100%%**********************]  1 of 1 completed\n",
            "[*********************100%%**********************]  1 of 1 completed\n"
          ]
        },
        {
          "output_type": "stream",
          "name": "stdout",
          "text": [
            "Fetching data for GLEN.L...\n",
            "Fetching data for GSK.L...\n"
          ]
        },
        {
          "output_type": "stream",
          "name": "stderr",
          "text": [
            "\r[*********************100%%**********************]  1 of 1 completed\n"
          ]
        },
        {
          "output_type": "stream",
          "name": "stdout",
          "text": [
            "Fetching data for HLMA.L...\n"
          ]
        },
        {
          "output_type": "stream",
          "name": "stderr",
          "text": [
            "[*********************100%%**********************]  1 of 1 completed\n",
            "[*********************100%%**********************]  1 of 1 completed\n"
          ]
        },
        {
          "output_type": "stream",
          "name": "stdout",
          "text": [
            "Fetching data for HL.L...\n",
            "Fetching data for HSBA.L...\n"
          ]
        },
        {
          "output_type": "stream",
          "name": "stderr",
          "text": [
            "[*********************100%%**********************]  1 of 1 completed\n",
            "[*********************100%%**********************]  1 of 1 completed\n"
          ]
        },
        {
          "output_type": "stream",
          "name": "stdout",
          "text": [
            "Fetching data for HIK.L...\n",
            "Fetching data for HLE.L...\n"
          ]
        },
        {
          "output_type": "stream",
          "name": "stderr",
          "text": [
            "\r[*********************100%%**********************]  1 of 1 completed\n",
            "ERROR:yfinance:\n",
            "1 Failed download:\n",
            "ERROR:yfinance:['HLE.L']: YFTzMissingError('$%ticker%: possibly delisted; No timezone found')\n",
            "[*********************100%%**********************]  1 of 1 completed\n"
          ]
        },
        {
          "output_type": "stream",
          "name": "stdout",
          "text": [
            "Fetching data for IHG.L...\n",
            "Fetching data for IMB.L...\n"
          ]
        },
        {
          "output_type": "stream",
          "name": "stderr",
          "text": [
            "[*********************100%%**********************]  1 of 1 completed\n",
            "[*********************100%%**********************]  1 of 1 completed\n"
          ]
        },
        {
          "output_type": "stream",
          "name": "stdout",
          "text": [
            "Fetching data for INF.L...\n",
            "Fetching data for ICP.L...\n"
          ]
        },
        {
          "output_type": "stream",
          "name": "stderr",
          "text": [
            "\r[*********************100%%**********************]  1 of 1 completed\n",
            "ERROR:yfinance:\n",
            "1 Failed download:\n",
            "ERROR:yfinance:['ICP.L']: YFTzMissingError('$%ticker%: possibly delisted; No timezone found')\n",
            "[*********************100%%**********************]  1 of 1 completed\n"
          ]
        },
        {
          "output_type": "stream",
          "name": "stdout",
          "text": [
            "Fetching data for IAG.L...\n",
            "Fetching data for ITRK.L...\n"
          ]
        },
        {
          "output_type": "stream",
          "name": "stderr",
          "text": [
            "\r[*********************100%%**********************]  1 of 1 completed\n"
          ]
        },
        {
          "output_type": "stream",
          "name": "stdout",
          "text": [
            "Fetching data for JMAT.L...\n"
          ]
        },
        {
          "output_type": "stream",
          "name": "stderr",
          "text": [
            "[*********************100%%**********************]  1 of 1 completed\n",
            "[*********************100%%**********************]  1 of 1 completed\n"
          ]
        },
        {
          "output_type": "stream",
          "name": "stdout",
          "text": [
            "Fetching data for JET.L...\n",
            "Fetching data for KGF.L...\n"
          ]
        },
        {
          "output_type": "stream",
          "name": "stderr",
          "text": [
            "\r[*********************100%%**********************]  1 of 1 completed\n"
          ]
        },
        {
          "output_type": "stream",
          "name": "stdout",
          "text": [
            "Fetching data for LAND.L...\n"
          ]
        },
        {
          "output_type": "stream",
          "name": "stderr",
          "text": [
            "\r[*********************100%%**********************]  1 of 1 completed\n"
          ]
        },
        {
          "output_type": "stream",
          "name": "stdout",
          "text": [
            "Fetching data for LGEN.L...\n"
          ]
        },
        {
          "output_type": "stream",
          "name": "stderr",
          "text": [
            "[*********************100%%**********************]  1 of 1 completed\n",
            "[*********************100%%**********************]  1 of 1 completed\n"
          ]
        },
        {
          "output_type": "stream",
          "name": "stdout",
          "text": [
            "Fetching data for LLOY.L...\n",
            "Fetching data for LSEG.L...\n"
          ]
        },
        {
          "output_type": "stream",
          "name": "stderr",
          "text": [
            "[*********************100%%**********************]  1 of 1 completed\n",
            "[*********************100%%**********************]  1 of 1 completed\n"
          ]
        },
        {
          "output_type": "stream",
          "name": "stdout",
          "text": [
            "Fetching data for MNG.L...\n",
            "Fetching data for MRO.L...\n"
          ]
        },
        {
          "output_type": "stream",
          "name": "stderr",
          "text": [
            "\r[*********************100%%**********************]  1 of 1 completed\n"
          ]
        },
        {
          "output_type": "stream",
          "name": "stdout",
          "text": [
            "Fetching data for MNDI.L...\n"
          ]
        },
        {
          "output_type": "stream",
          "name": "stderr",
          "text": [
            "\r[*********************100%%**********************]  1 of 1 completed\n"
          ]
        },
        {
          "output_type": "stream",
          "name": "stdout",
          "text": [
            "Fetching data for MCRO.L...\n"
          ]
        },
        {
          "output_type": "stream",
          "name": "stderr",
          "text": [
            "\r[*********************100%%**********************]  1 of 1 completed\n",
            "ERROR:yfinance:\n",
            "1 Failed download:\n",
            "ERROR:yfinance:['MCRO.L']: YFTzMissingError('$%ticker%: possibly delisted; No timezone found')\n"
          ]
        },
        {
          "output_type": "stream",
          "name": "stdout",
          "text": [
            "Fetching data for NG.L...\n"
          ]
        },
        {
          "output_type": "stream",
          "name": "stderr",
          "text": [
            "\r[*********************100%%**********************]  1 of 1 completed\n"
          ]
        },
        {
          "output_type": "stream",
          "name": "stdout",
          "text": [
            "Fetching data for NXT.L...\n"
          ]
        },
        {
          "output_type": "stream",
          "name": "stderr",
          "text": [
            "[*********************100%%**********************]  1 of 1 completed\n",
            "[*********************100%%**********************]  1 of 1 completed\n",
            "ERROR:yfinance:\n",
            "1 Failed download:\n",
            "ERROR:yfinance:['NPN.L']: YFPricesMissingError('$%ticker%: possibly delisted; No price data found  (1d 2014-06-28 22:08:52.855993 -> 2024-06-25 22:08:52.855993)')\n",
            "[*********************100%%**********************]  1 of 1 completed\n"
          ]
        },
        {
          "output_type": "stream",
          "name": "stdout",
          "text": [
            "Fetching data for NPN.L...\n",
            "$NPN.L: possibly delisted; No price data found  (1d 2014-06-28 22:08:52.855993 -> 2024-06-25 22:08:52.855993)\n",
            "Fetching data for OCDO.L...\n",
            "Fetching data for PHNX.L...\n"
          ]
        },
        {
          "output_type": "stream",
          "name": "stderr",
          "text": [
            "\r[*********************100%%**********************]  1 of 1 completed\n"
          ]
        },
        {
          "output_type": "stream",
          "name": "stdout",
          "text": [
            "Fetching data for POLY.L...\n"
          ]
        },
        {
          "output_type": "stream",
          "name": "stderr",
          "text": [
            "\r[*********************100%%**********************]  1 of 1 completed\n",
            "ERROR:yfinance:\n",
            "1 Failed download:\n",
            "ERROR:yfinance:['POLY.L']: YFTzMissingError('$%ticker%: possibly delisted; No timezone found')\n"
          ]
        },
        {
          "output_type": "stream",
          "name": "stdout",
          "text": [
            "Fetching data for PSN.L...\n"
          ]
        },
        {
          "output_type": "stream",
          "name": "stderr",
          "text": [
            "\r[*********************100%%**********************]  1 of 1 completed\n"
          ]
        },
        {
          "output_type": "stream",
          "name": "stdout",
          "text": [
            "Fetching data for PRU.L...\n"
          ]
        },
        {
          "output_type": "stream",
          "name": "stderr",
          "text": [
            "\r[*********************100%%**********************]  1 of 1 completed\n"
          ]
        },
        {
          "output_type": "stream",
          "name": "stdout",
          "text": [
            "Fetching data for RDSA.L...\n"
          ]
        },
        {
          "output_type": "stream",
          "name": "stderr",
          "text": [
            "\r[*********************100%%**********************]  1 of 1 completed\n",
            "ERROR:yfinance:\n",
            "1 Failed download:\n",
            "ERROR:yfinance:['RDSA.L']: YFTzMissingError('$%ticker%: possibly delisted; No timezone found')\n"
          ]
        },
        {
          "output_type": "stream",
          "name": "stdout",
          "text": [
            "Fetching data for RDSB.L...\n"
          ]
        },
        {
          "output_type": "stream",
          "name": "stderr",
          "text": [
            "\r[*********************100%%**********************]  1 of 1 completed\n",
            "ERROR:yfinance:\n",
            "1 Failed download:\n",
            "ERROR:yfinance:['RDSB.L']: YFTzMissingError('$%ticker%: possibly delisted; No timezone found')\n"
          ]
        },
        {
          "output_type": "stream",
          "name": "stdout",
          "text": [
            "Fetching data for RB.L...\n"
          ]
        },
        {
          "output_type": "stream",
          "name": "stderr",
          "text": [
            "\r[*********************100%%**********************]  1 of 1 completed\n",
            "ERROR:yfinance:\n",
            "1 Failed download:\n",
            "ERROR:yfinance:['RB.L']: YFTzMissingError('$%ticker%: possibly delisted; No timezone found')\n",
            "[*********************100%%**********************]  1 of 1 completed"
          ]
        },
        {
          "output_type": "stream",
          "name": "stdout",
          "text": [
            "Fetching data for REL.L...\n"
          ]
        },
        {
          "output_type": "stream",
          "name": "stderr",
          "text": [
            "\n",
            "\r[*********************100%%**********************]  1 of 1 completed\n"
          ]
        },
        {
          "output_type": "stream",
          "name": "stdout",
          "text": [
            "Fetching data for RMV.L...\n",
            "Fetching data for RIO.L...\n"
          ]
        },
        {
          "output_type": "stream",
          "name": "stderr",
          "text": [
            "[*********************100%%**********************]  1 of 1 completed\n",
            "[*********************100%%**********************]  1 of 1 completed"
          ]
        },
        {
          "output_type": "stream",
          "name": "stdout",
          "text": [
            "Fetching data for RR.L...\n"
          ]
        },
        {
          "output_type": "stream",
          "name": "stderr",
          "text": [
            "\n"
          ]
        },
        {
          "output_type": "stream",
          "name": "stdout",
          "text": [
            "Fetching data for RTO.L...\n"
          ]
        },
        {
          "output_type": "stream",
          "name": "stderr",
          "text": [
            "\r[*********************100%%**********************]  1 of 1 completed\n"
          ]
        },
        {
          "output_type": "stream",
          "name": "stdout",
          "text": [
            "Fetching data for SGE.L...\n"
          ]
        },
        {
          "output_type": "stream",
          "name": "stderr",
          "text": [
            "\r[*********************100%%**********************]  1 of 1 completed\n"
          ]
        },
        {
          "output_type": "stream",
          "name": "stdout",
          "text": [
            "Fetching data for SBRY.L...\n"
          ]
        },
        {
          "output_type": "stream",
          "name": "stderr",
          "text": [
            "\r[*********************100%%**********************]  1 of 1 completed\n"
          ]
        },
        {
          "output_type": "stream",
          "name": "stdout",
          "text": [
            "Fetching data for SDR.L...\n"
          ]
        },
        {
          "output_type": "stream",
          "name": "stderr",
          "text": [
            "\r[*********************100%%**********************]  1 of 1 completed\n"
          ]
        },
        {
          "output_type": "stream",
          "name": "stdout",
          "text": [
            "Fetching data for SMDS.L...\n"
          ]
        },
        {
          "output_type": "stream",
          "name": "stderr",
          "text": [
            "\r[*********************100%%**********************]  1 of 1 completed\n"
          ]
        },
        {
          "output_type": "stream",
          "name": "stdout",
          "text": [
            "Fetching data for SMIN.L...\n"
          ]
        },
        {
          "output_type": "stream",
          "name": "stderr",
          "text": [
            "[*********************100%%**********************]  1 of 1 completed\n",
            "[*********************100%%**********************]  1 of 1 completed\n"
          ]
        },
        {
          "output_type": "stream",
          "name": "stdout",
          "text": [
            "Fetching data for SKG.L...\n",
            "Fetching data for SN.L...\n"
          ]
        },
        {
          "output_type": "stream",
          "name": "stderr",
          "text": [
            "\r[*********************100%%**********************]  1 of 1 completed\n"
          ]
        },
        {
          "output_type": "stream",
          "name": "stdout",
          "text": [
            "Fetching data for SMT.L...\n"
          ]
        },
        {
          "output_type": "stream",
          "name": "stderr",
          "text": [
            "\r[*********************100%%**********************]  1 of 1 completed\n"
          ]
        },
        {
          "output_type": "stream",
          "name": "stdout",
          "text": [
            "Fetching data for SPX.L...\n"
          ]
        },
        {
          "output_type": "stream",
          "name": "stderr",
          "text": [
            "\r[*********************100%%**********************]  1 of 1 completed\n"
          ]
        },
        {
          "output_type": "stream",
          "name": "stdout",
          "text": [
            "Fetching data for SSE.L...\n"
          ]
        },
        {
          "output_type": "stream",
          "name": "stderr",
          "text": [
            "\r[*********************100%%**********************]  1 of 1 completed\n"
          ]
        },
        {
          "output_type": "stream",
          "name": "stdout",
          "text": [
            "Fetching data for STAN.L...\n"
          ]
        },
        {
          "output_type": "stream",
          "name": "stderr",
          "text": [
            "\r[*********************100%%**********************]  1 of 1 completed\n"
          ]
        },
        {
          "output_type": "stream",
          "name": "stdout",
          "text": [
            "Fetching data for SLA.L...\n"
          ]
        },
        {
          "output_type": "stream",
          "name": "stderr",
          "text": [
            "\r[*********************100%%**********************]  1 of 1 completed\n",
            "ERROR:yfinance:\n",
            "1 Failed download:\n",
            "ERROR:yfinance:['SLA.L']: YFTzMissingError('$%ticker%: possibly delisted; No timezone found')\n"
          ]
        },
        {
          "output_type": "stream",
          "name": "stdout",
          "text": [
            "Fetching data for STJ.L...\n"
          ]
        },
        {
          "output_type": "stream",
          "name": "stderr",
          "text": [
            "\r[*********************100%%**********************]  1 of 1 completed\n"
          ]
        },
        {
          "output_type": "stream",
          "name": "stdout",
          "text": [
            "Fetching data for TSCO.L...\n"
          ]
        },
        {
          "output_type": "stream",
          "name": "stderr",
          "text": [
            "[*********************100%%**********************]  1 of 1 completed\n",
            "[*********************100%%**********************]  1 of 1 completed\n"
          ]
        },
        {
          "output_type": "stream",
          "name": "stdout",
          "text": [
            "Fetching data for TUI.L...\n",
            "Fetching data for ULVR.L...\n"
          ]
        },
        {
          "output_type": "stream",
          "name": "stderr",
          "text": [
            "\r[*********************100%%**********************]  1 of 1 completed\n"
          ]
        },
        {
          "output_type": "stream",
          "name": "stdout",
          "text": [
            "Fetching data for UU.L...\n"
          ]
        },
        {
          "output_type": "stream",
          "name": "stderr",
          "text": [
            "\r[*********************100%%**********************]  1 of 1 completed\n"
          ]
        },
        {
          "output_type": "stream",
          "name": "stdout",
          "text": [
            "Fetching data for VOD.L...\n"
          ]
        },
        {
          "output_type": "stream",
          "name": "stderr",
          "text": [
            "[*********************100%%**********************]  1 of 1 completed\n",
            "[*********************100%%**********************]  1 of 1 completed"
          ]
        },
        {
          "output_type": "stream",
          "name": "stdout",
          "text": [
            "Fetching data for WTB.L...\n"
          ]
        },
        {
          "output_type": "stream",
          "name": "stderr",
          "text": [
            "\n"
          ]
        },
        {
          "output_type": "stream",
          "name": "stdout",
          "text": [
            "Fetching data for WPP.L...\n"
          ]
        },
        {
          "output_type": "stream",
          "name": "stderr",
          "text": [
            "\r[*********************100%%**********************]  1 of 1 completed\n"
          ]
        },
        {
          "output_type": "stream",
          "name": "stdout",
          "text": [
            "Data for III.L saved to III.L_stock_data.csv\n",
            "Data for ADM.L saved to ADM.L_stock_data.csv\n",
            "Data for AAL.L saved to AAL.L_stock_data.csv\n",
            "Data for ABF.L saved to ABF.L_stock_data.csv\n",
            "Data for AZN.L saved to AZN.L_stock_data.csv\n",
            "Data for AUTO.L saved to AUTO.L_stock_data.csv\n",
            "Data for AV.L saved to AV.L_stock_data.csv\n",
            "Data for AVST.L saved to AVST.L_stock_data.csv\n",
            "Data for BME.L saved to BME.L_stock_data.csv\n",
            "Data for BA.L saved to BA.L_stock_data.csv\n",
            "Data for BARC.L saved to BARC.L_stock_data.csv\n",
            "Data for BDEV.L saved to BDEV.L_stock_data.csv\n",
            "Data for BKG.L saved to BKG.L_stock_data.csv\n",
            "Data for BHP.L saved to BHP.L_stock_data.csv\n",
            "Data for BP.L saved to BP.L_stock_data.csv\n",
            "Data for BATS.L saved to BATS.L_stock_data.csv\n",
            "Data for BLND.L saved to BLND.L_stock_data.csv\n",
            "Data for BT-A.L saved to BT-A.L_stock_data.csv\n",
            "Data for BNZL.L saved to BNZL.L_stock_data.csv\n",
            "Data for CCH.L saved to CCH.L_stock_data.csv\n",
            "Data for CPG.L saved to CPG.L_stock_data.csv\n",
            "Data for CRH.L saved to CRH.L_stock_data.csv\n",
            "Data for CRDA.L saved to CRDA.L_stock_data.csv\n",
            "Data for DCC.L saved to DCC.L_stock_data.csv\n",
            "Data for DGE.L saved to DGE.L_stock_data.csv\n",
            "Data for ENT.L saved to ENT.L_stock_data.csv\n",
            "Data for EVR.L saved to EVR.L_stock_data.csv\n",
            "Data for EXPN.L saved to EXPN.L_stock_data.csv\n",
            "Data for FERG.L saved to FERG.L_stock_data.csv\n",
            "Data for FLTR.L saved to FLTR.L_stock_data.csv\n",
            "Data for FRES.L saved to FRES.L_stock_data.csv\n",
            "Data for GLEN.L saved to GLEN.L_stock_data.csv\n",
            "Data for GSK.L saved to GSK.L_stock_data.csv\n",
            "Data for HLMA.L saved to HLMA.L_stock_data.csv\n",
            "Data for HL.L saved to HL.L_stock_data.csv\n",
            "Data for HSBA.L saved to HSBA.L_stock_data.csv\n",
            "Data for HIK.L saved to HIK.L_stock_data.csv\n",
            "Data for HLE.L saved to HLE.L_stock_data.csv\n",
            "Data for IHG.L saved to IHG.L_stock_data.csv\n",
            "Data for IMB.L saved to IMB.L_stock_data.csv\n",
            "Data for INF.L saved to INF.L_stock_data.csv\n",
            "Data for ICP.L saved to ICP.L_stock_data.csv\n",
            "Data for IAG.L saved to IAG.L_stock_data.csv\n",
            "Data for ITRK.L saved to ITRK.L_stock_data.csv\n",
            "Data for JMAT.L saved to JMAT.L_stock_data.csv\n",
            "Data for JET.L saved to JET.L_stock_data.csv\n",
            "Data for KGF.L saved to KGF.L_stock_data.csv\n",
            "Data for LAND.L saved to LAND.L_stock_data.csv\n",
            "Data for LGEN.L saved to LGEN.L_stock_data.csv\n",
            "Data for LLOY.L saved to LLOY.L_stock_data.csv\n",
            "Data for LSEG.L saved to LSEG.L_stock_data.csv\n",
            "Data for MNG.L saved to MNG.L_stock_data.csv\n",
            "Data for MRO.L saved to MRO.L_stock_data.csv\n",
            "Data for MNDI.L saved to MNDI.L_stock_data.csv\n",
            "Data for MCRO.L saved to MCRO.L_stock_data.csv\n",
            "Data for NG.L saved to NG.L_stock_data.csv\n",
            "Data for NXT.L saved to NXT.L_stock_data.csv\n",
            "Data for NPN.L saved to NPN.L_stock_data.csv\n",
            "Data for OCDO.L saved to OCDO.L_stock_data.csv\n",
            "Data for PHNX.L saved to PHNX.L_stock_data.csv\n",
            "Data for POLY.L saved to POLY.L_stock_data.csv\n",
            "Data for PSN.L saved to PSN.L_stock_data.csv\n",
            "Data for PRU.L saved to PRU.L_stock_data.csv\n",
            "Data for RDSA.L saved to RDSA.L_stock_data.csv\n",
            "Data for RDSB.L saved to RDSB.L_stock_data.csv\n",
            "Data for RB.L saved to RB.L_stock_data.csv\n",
            "Data for REL.L saved to REL.L_stock_data.csv\n",
            "Data for RMV.L saved to RMV.L_stock_data.csv\n",
            "Data for RIO.L saved to RIO.L_stock_data.csv\n",
            "Data for RR.L saved to RR.L_stock_data.csv\n",
            "Data for RTO.L saved to RTO.L_stock_data.csv\n",
            "Data for SGE.L saved to SGE.L_stock_data.csv\n",
            "Data for SBRY.L saved to SBRY.L_stock_data.csv\n",
            "Data for SDR.L saved to SDR.L_stock_data.csv\n",
            "Data for SMDS.L saved to SMDS.L_stock_data.csv\n",
            "Data for SMIN.L saved to SMIN.L_stock_data.csv\n",
            "Data for SKG.L saved to SKG.L_stock_data.csv\n",
            "Data for SN.L saved to SN.L_stock_data.csv\n",
            "Data for SMT.L saved to SMT.L_stock_data.csv\n",
            "Data for SPX.L saved to SPX.L_stock_data.csv\n",
            "Data for SSE.L saved to SSE.L_stock_data.csv\n",
            "Data for STAN.L saved to STAN.L_stock_data.csv\n",
            "Data for SLA.L saved to SLA.L_stock_data.csv\n",
            "Data for STJ.L saved to STJ.L_stock_data.csv\n",
            "Data for TSCO.L saved to TSCO.L_stock_data.csv\n",
            "Data for TUI.L saved to TUI.L_stock_data.csv\n",
            "Data for ULVR.L saved to ULVR.L_stock_data.csv\n",
            "Data for UU.L saved to UU.L_stock_data.csv\n",
            "Data for VOD.L saved to VOD.L_stock_data.csv\n",
            "Data for WTB.L saved to WTB.L_stock_data.csv\n",
            "Data for WPP.L saved to WPP.L_stock_data.csv\n"
          ]
        }
      ]
    },
    {
      "cell_type": "code",
      "source": [],
      "metadata": {
        "id": "9J5yl41gckBw"
      },
      "execution_count": null,
      "outputs": []
    }
  ]
}